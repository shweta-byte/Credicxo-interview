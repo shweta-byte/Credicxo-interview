{
  "nbformat": 4,
  "nbformat_minor": 0,
  "metadata": {
    "colab": {
      "name": "scrapy.ipynb",
      "provenance": [],
      "collapsed_sections": [],
      "authorship_tag": "ABX9TyOVoEgpzoQTyCUwiUKixDN0",
      "include_colab_link": true
    },
    "kernelspec": {
      "name": "python3",
      "display_name": "Python 3"
    },
    "language_info": {
      "name": "python"
    }
  },
  "cells": [
    {
      "cell_type": "markdown",
      "metadata": {
        "id": "view-in-github",
        "colab_type": "text"
      },
      "source": [
        "<a href=\"https://colab.research.google.com/github/shweta-byte/Credicxo-interview/blob/main/scrapy.ipynb\" target=\"_parent\"><img src=\"https://colab.research.google.com/assets/colab-badge.svg\" alt=\"Open In Colab\"/></a>"
      ]
    },
    {
      "cell_type": "code",
      "metadata": {
        "id": "j7w3o_iAfuGN",
        "colab": {
          "base_uri": "https://localhost:8080/"
        },
        "outputId": "63c81e41-baa5-49cb-8755-f37d229eac93"
      },
      "source": [
        "# task 1: showing output in json\n",
        "# In this task you need to write an automation script for a website url :' '\n",
        "\n",
        "from bs4 import BeautifulSoup\n",
        "import requests\n",
        "import json \n",
        "\n",
        "html_text = requests.get('https://www.midsouthshooterssupply.com/dept/reloading/primers?currentpage=1','r').text\n",
        "soup = BeautifulSoup(html_text, 'lxml')\n",
        "products = soup.find_all('div', class_ = 'product')\n",
        "p={}\n",
        "l=[]\n",
        "for product in products:\n",
        "  p[\"price\"]= product.find('span', class_ = 'price').text\n",
        "  p[\"price\"]=float(p[\"price\"].replace('$',''))\n",
        "  p[\"title\"] = product.find('a', class_ = 'catalog-item-name').text\n",
        "  p[\"status\"] = product.find('span', class_ = 'status').text\n",
        "  if p[\"status\"] == 'Out of Stock':\n",
        "    p[\"status\"] = False\n",
        "  elif p[\"status\"] != 'Out Of Stock':\n",
        "    p[\"status\"] = True\n",
        "  p[\"manufacturer\"] = product.find('a', class_ = 'catalog-item-brand').text\n",
        "  l.append(p)\n",
        "jsonlist=json.dumps(l)\n",
        "print(jsonlist)"
      ],
      "execution_count": 9,
      "outputs": [
        {
          "output_type": "stream",
          "name": "stdout",
          "text": [
            "[{\"price\": 59.67, \"title\": \"5 1/2 Small Mag Pistol Primer (1000 Count)\", \"status\": false, \"manufacturer\": \"Remington\"}, {\"price\": 59.67, \"title\": \"5 1/2 Small Mag Pistol Primer (1000 Count)\", \"status\": false, \"manufacturer\": \"Remington\"}, {\"price\": 59.67, \"title\": \"5 1/2 Small Mag Pistol Primer (1000 Count)\", \"status\": false, \"manufacturer\": \"Remington\"}, {\"price\": 59.67, \"title\": \"5 1/2 Small Mag Pistol Primer (1000 Count)\", \"status\": false, \"manufacturer\": \"Remington\"}, {\"price\": 59.67, \"title\": \"5 1/2 Small Mag Pistol Primer (1000 Count)\", \"status\": false, \"manufacturer\": \"Remington\"}, {\"price\": 59.67, \"title\": \"5 1/2 Small Mag Pistol Primer (1000 Count)\", \"status\": false, \"manufacturer\": \"Remington\"}, {\"price\": 59.67, \"title\": \"5 1/2 Small Mag Pistol Primer (1000 Count)\", \"status\": false, \"manufacturer\": \"Remington\"}, {\"price\": 59.67, \"title\": \"5 1/2 Small Mag Pistol Primer (1000 Count)\", \"status\": false, \"manufacturer\": \"Remington\"}, {\"price\": 59.67, \"title\": \"5 1/2 Small Mag Pistol Primer (1000 Count)\", \"status\": false, \"manufacturer\": \"Remington\"}, {\"price\": 59.67, \"title\": \"5 1/2 Small Mag Pistol Primer (1000 Count)\", \"status\": false, \"manufacturer\": \"Remington\"}, {\"price\": 59.67, \"title\": \"5 1/2 Small Mag Pistol Primer (1000 Count)\", \"status\": false, \"manufacturer\": \"Remington\"}, {\"price\": 59.67, \"title\": \"5 1/2 Small Mag Pistol Primer (1000 Count)\", \"status\": false, \"manufacturer\": \"Remington\"}, {\"price\": 59.67, \"title\": \"5 1/2 Small Mag Pistol Primer (1000 Count)\", \"status\": false, \"manufacturer\": \"Remington\"}, {\"price\": 59.67, \"title\": \"5 1/2 Small Mag Pistol Primer (1000 Count)\", \"status\": false, \"manufacturer\": \"Remington\"}, {\"price\": 59.67, \"title\": \"5 1/2 Small Mag Pistol Primer (1000 Count)\", \"status\": false, \"manufacturer\": \"Remington\"}, {\"price\": 59.67, \"title\": \"5 1/2 Small Mag Pistol Primer (1000 Count)\", \"status\": false, \"manufacturer\": \"Remington\"}, {\"price\": 59.67, \"title\": \"5 1/2 Small Mag Pistol Primer (1000 Count)\", \"status\": false, \"manufacturer\": \"Remington\"}, {\"price\": 59.67, \"title\": \"5 1/2 Small Mag Pistol Primer (1000 Count)\", \"status\": false, \"manufacturer\": \"Remington\"}, {\"price\": 59.67, \"title\": \"5 1/2 Small Mag Pistol Primer (1000 Count)\", \"status\": false, \"manufacturer\": \"Remington\"}, {\"price\": 59.67, \"title\": \"5 1/2 Small Mag Pistol Primer (1000 Count)\", \"status\": false, \"manufacturer\": \"Remington\"}, {\"price\": 59.67, \"title\": \"5 1/2 Small Mag Pistol Primer (1000 Count)\", \"status\": false, \"manufacturer\": \"Remington\"}, {\"price\": 59.67, \"title\": \"5 1/2 Small Mag Pistol Primer (1000 Count)\", \"status\": false, \"manufacturer\": \"Remington\"}, {\"price\": 59.67, \"title\": \"5 1/2 Small Mag Pistol Primer (1000 Count)\", \"status\": false, \"manufacturer\": \"Remington\"}, {\"price\": 59.67, \"title\": \"5 1/2 Small Mag Pistol Primer (1000 Count)\", \"status\": false, \"manufacturer\": \"Remington\"}, {\"price\": 59.67, \"title\": \"5 1/2 Small Mag Pistol Primer (1000 Count)\", \"status\": false, \"manufacturer\": \"Remington\"}, {\"price\": 59.67, \"title\": \"5 1/2 Small Mag Pistol Primer (1000 Count)\", \"status\": false, \"manufacturer\": \"Remington\"}, {\"price\": 59.67, \"title\": \"5 1/2 Small Mag Pistol Primer (1000 Count)\", \"status\": false, \"manufacturer\": \"Remington\"}, {\"price\": 59.67, \"title\": \"5 1/2 Small Mag Pistol Primer (1000 Count)\", \"status\": false, \"manufacturer\": \"Remington\"}, {\"price\": 59.67, \"title\": \"5 1/2 Small Mag Pistol Primer (1000 Count)\", \"status\": false, \"manufacturer\": \"Remington\"}, {\"price\": 59.67, \"title\": \"5 1/2 Small Mag Pistol Primer (1000 Count)\", \"status\": false, \"manufacturer\": \"Remington\"}]\n"
          ]
        }
      ]
    },
    {
      "cell_type": "code",
      "source": [
        "# task 1 part 2 done seprately over here\n",
        "# 2) For this scraper, use rotating proxies from this website http://www.freeproxylists.net/ (only US) \n",
        "\n",
        "import requests\n",
        "import random\n",
        "from bs4 import BeautifulSoup as bs\n",
        "import traceback\n",
        "\n",
        "def get_free_proxies():\n",
        "  url = 'https://www.freeproxylists.net/'\n",
        "  # request and grab contents\n",
        "  soup = bs(requests.get(url).content,'html.parser')\n",
        "  # to store proxies\n",
        "  proxies = []\n",
        "  rows = soup.find_all('tr', class_ = 'odd')\n",
        "  for row in rows:\n",
        "    tds=row.find_all(\"td\")\n",
        "    try:\n",
        "      ip=tds[0].text.strip()\n",
        "      port=tds[1].text.strip()\n",
        "      proxies.append(str(ip)+ \":\" + str(port))\n",
        "    except IndexError:\n",
        "      continue\n",
        "  return proxies\n",
        "\n",
        "url =  'https://www.midsouthshooterssupply.com/dept/reloading/primers?currentpage=1'\n",
        "proxies = get_free_proxies()\n",
        "\n",
        "for i in range(len(proxies)):\n",
        "  #print req number\n",
        "  print(\"request number : \", + str(i+1))\n",
        "\n",
        "  proxy =proxies[i]\n",
        "  try:\n",
        "    response = requests.get(url, proxies = {\"http\":proxy,\"https\":proxy})\n",
        "    print(response.json())\n",
        "  except:\n",
        "    #if proxy is unavailaible \n",
        "    print(\"not availaible\")\n",
        " \n",
        "\n",
        "\n",
        "\n"
      ],
      "metadata": {
        "id": "1b6_SnrmAjWv"
      },
      "execution_count": 20,
      "outputs": []
    },
    {
      "cell_type": "code",
      "source": [
        ""
      ],
      "metadata": {
        "id": "S5iLum6bEF6w"
      },
      "execution_count": 24,
      "outputs": []
    }
  ]
}